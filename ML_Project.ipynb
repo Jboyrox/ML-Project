{
  "cells": [
    {
      "cell_type": "code",
      "execution_count": 195,
      "metadata": {
        "id": "o1DAgXu3839X"
      },
      "outputs": [],
      "source": [
        "import numpy as np\n",
        "import pandas as pd\n",
        "from matplotlib import pyplot as plt\n",
        "import scipy\n",
        "import seaborn as sns\n"
      ]
    },
    {
      "cell_type": "code",
      "source": [],
      "metadata": {
        "id": "h8Yz_idcwj2a"
      },
      "execution_count": null,
      "outputs": []
    },
    {
      "cell_type": "markdown",
      "source": [
        "Here we have downloaded a dataset from this link in \n",
        "\n",
        "kaggle:https://www.kaggle.com/code/yasirakyzl/covid-19-ml-model-90-accuracy/data . Our goal as part of this project is to design an algorithm to predict the risk of a patient dying from Covid based on their medical data and history."
      ],
      "metadata": {
        "id": "DJUstszQxelK"
      }
    },
    {
      "cell_type": "code",
      "execution_count": 196,
      "metadata": {
        "id": "8iY-mxbnKvT1"
      },
      "outputs": [],
      "source": [
        "df = pd.read_csv(\"covidData.csv\");"
      ]
    },
    {
      "cell_type": "markdown",
      "source": [
        "In the Dataset that we are using the column date died contains the dates at which the patient had died. If the patient is still alive then the Date_Died column contains the value '9999-99-99'. So in this step we are converting the date_died column into a binary column with 1(dead) and 0(alive) as the possible values."
      ],
      "metadata": {
        "id": "sQoacmDlynH3"
      }
    },
    {
      "cell_type": "code",
      "execution_count": 197,
      "metadata": {
        "id": "vI2j-0jTPbxG"
      },
      "outputs": [],
      "source": [
        "# df = df.replace(to_replace=97, value=np.nan).dropna()\n",
        "# df = df.replace(to_replace=99, value=np.nan).dropna()\n",
        "\n",
        "df['DEATH'] = np.where(df['DATE_DIED'] == '9999-99-99', 0, 1)\n",
        "df = df.drop('DATE_DIED', axis=1)"
      ]
    },
    {
      "cell_type": "markdown",
      "source": [
        "Next we split the dataset into training and test data."
      ],
      "metadata": {
        "id": "9W9N-6ggznwo"
      }
    },
    {
      "cell_type": "code",
      "execution_count": 198,
      "metadata": {
        "colab": {
          "base_uri": "https://localhost:8080/",
          "height": 559
        },
        "id": "PdB6znJIYhqD",
        "outputId": "0f89547a-107f-4ad6-c481-2b7e98496b43"
      },
      "outputs": [
        {
          "output_type": "stream",
          "name": "stdout",
          "text": [
            "Train x : (838860, 20)\n",
            "Test x : (209715, 20)\n",
            "Train y : (838860,)\n",
            "Test y : (209715,)\n"
          ]
        },
        {
          "output_type": "execute_result",
          "data": {
            "text/plain": [
              "         USMER  MEDICAL_UNIT  SEX  PATIENT_TYPE  INTUBED  PNEUMONIA  AGE  \\\n",
              "0            2             1    1             1       97          1   65   \n",
              "1            2             1    2             1       97          1   72   \n",
              "2            2             1    2             2        1          2   55   \n",
              "3            2             1    1             1       97          2   53   \n",
              "4            2             1    2             1       97          2   68   \n",
              "...        ...           ...  ...           ...      ...        ...  ...   \n",
              "1048570      2            13    2             1       97          2   40   \n",
              "1048571      1            13    2             2        2          2   51   \n",
              "1048572      2            13    2             1       97          2   55   \n",
              "1048573      2            13    2             1       97          2   28   \n",
              "1048574      2            13    2             1       97          2   52   \n",
              "\n",
              "         PREGNANT  DIABETES  COPD  ASTHMA  INMSUPR  HIPERTENSION  \\\n",
              "0               2         2     2       2        2             1   \n",
              "1              97         2     2       2        2             1   \n",
              "2              97         1     2       2        2             2   \n",
              "3               2         2     2       2        2             2   \n",
              "4              97         1     2       2        2             1   \n",
              "...           ...       ...   ...     ...      ...           ...   \n",
              "1048570        97         2     2       2        2             2   \n",
              "1048571        97         2     2       2        2             1   \n",
              "1048572        97         2     2       2        2             2   \n",
              "1048573        97         2     2       2        2             2   \n",
              "1048574        97         2     2       2        2             2   \n",
              "\n",
              "         OTHER_DISEASE  CARDIOVASCULAR  OBESITY  RENAL_CHRONIC  TOBACCO  \\\n",
              "0                    2               2        2              2        2   \n",
              "1                    2               2        1              1        2   \n",
              "2                    2               2        2              2        2   \n",
              "3                    2               2        2              2        2   \n",
              "4                    2               2        2              2        2   \n",
              "...                ...             ...      ...            ...      ...   \n",
              "1048570              2               2        2              2        2   \n",
              "1048571              2               2        2              2        2   \n",
              "1048572              2               2        2              2        2   \n",
              "1048573              2               2        2              2        2   \n",
              "1048574              2               2        2              2        2   \n",
              "\n",
              "         CLASIFFICATION_FINAL  ICU  \n",
              "0                           3   97  \n",
              "1                           5   97  \n",
              "2                           3    2  \n",
              "3                           7   97  \n",
              "4                           3   97  \n",
              "...                       ...  ...  \n",
              "1048570                     7   97  \n",
              "1048571                     7    2  \n",
              "1048572                     7   97  \n",
              "1048573                     7   97  \n",
              "1048574                     7   97  \n",
              "\n",
              "[1048575 rows x 20 columns]"
            ],
            "text/html": [
              "\n",
              "  <div id=\"df-a759254f-d897-4a6d-9b3d-c0c050cca122\">\n",
              "    <div class=\"colab-df-container\">\n",
              "      <div>\n",
              "<style scoped>\n",
              "    .dataframe tbody tr th:only-of-type {\n",
              "        vertical-align: middle;\n",
              "    }\n",
              "\n",
              "    .dataframe tbody tr th {\n",
              "        vertical-align: top;\n",
              "    }\n",
              "\n",
              "    .dataframe thead th {\n",
              "        text-align: right;\n",
              "    }\n",
              "</style>\n",
              "<table border=\"1\" class=\"dataframe\">\n",
              "  <thead>\n",
              "    <tr style=\"text-align: right;\">\n",
              "      <th></th>\n",
              "      <th>USMER</th>\n",
              "      <th>MEDICAL_UNIT</th>\n",
              "      <th>SEX</th>\n",
              "      <th>PATIENT_TYPE</th>\n",
              "      <th>INTUBED</th>\n",
              "      <th>PNEUMONIA</th>\n",
              "      <th>AGE</th>\n",
              "      <th>PREGNANT</th>\n",
              "      <th>DIABETES</th>\n",
              "      <th>COPD</th>\n",
              "      <th>ASTHMA</th>\n",
              "      <th>INMSUPR</th>\n",
              "      <th>HIPERTENSION</th>\n",
              "      <th>OTHER_DISEASE</th>\n",
              "      <th>CARDIOVASCULAR</th>\n",
              "      <th>OBESITY</th>\n",
              "      <th>RENAL_CHRONIC</th>\n",
              "      <th>TOBACCO</th>\n",
              "      <th>CLASIFFICATION_FINAL</th>\n",
              "      <th>ICU</th>\n",
              "    </tr>\n",
              "  </thead>\n",
              "  <tbody>\n",
              "    <tr>\n",
              "      <th>0</th>\n",
              "      <td>2</td>\n",
              "      <td>1</td>\n",
              "      <td>1</td>\n",
              "      <td>1</td>\n",
              "      <td>97</td>\n",
              "      <td>1</td>\n",
              "      <td>65</td>\n",
              "      <td>2</td>\n",
              "      <td>2</td>\n",
              "      <td>2</td>\n",
              "      <td>2</td>\n",
              "      <td>2</td>\n",
              "      <td>1</td>\n",
              "      <td>2</td>\n",
              "      <td>2</td>\n",
              "      <td>2</td>\n",
              "      <td>2</td>\n",
              "      <td>2</td>\n",
              "      <td>3</td>\n",
              "      <td>97</td>\n",
              "    </tr>\n",
              "    <tr>\n",
              "      <th>1</th>\n",
              "      <td>2</td>\n",
              "      <td>1</td>\n",
              "      <td>2</td>\n",
              "      <td>1</td>\n",
              "      <td>97</td>\n",
              "      <td>1</td>\n",
              "      <td>72</td>\n",
              "      <td>97</td>\n",
              "      <td>2</td>\n",
              "      <td>2</td>\n",
              "      <td>2</td>\n",
              "      <td>2</td>\n",
              "      <td>1</td>\n",
              "      <td>2</td>\n",
              "      <td>2</td>\n",
              "      <td>1</td>\n",
              "      <td>1</td>\n",
              "      <td>2</td>\n",
              "      <td>5</td>\n",
              "      <td>97</td>\n",
              "    </tr>\n",
              "    <tr>\n",
              "      <th>2</th>\n",
              "      <td>2</td>\n",
              "      <td>1</td>\n",
              "      <td>2</td>\n",
              "      <td>2</td>\n",
              "      <td>1</td>\n",
              "      <td>2</td>\n",
              "      <td>55</td>\n",
              "      <td>97</td>\n",
              "      <td>1</td>\n",
              "      <td>2</td>\n",
              "      <td>2</td>\n",
              "      <td>2</td>\n",
              "      <td>2</td>\n",
              "      <td>2</td>\n",
              "      <td>2</td>\n",
              "      <td>2</td>\n",
              "      <td>2</td>\n",
              "      <td>2</td>\n",
              "      <td>3</td>\n",
              "      <td>2</td>\n",
              "    </tr>\n",
              "    <tr>\n",
              "      <th>3</th>\n",
              "      <td>2</td>\n",
              "      <td>1</td>\n",
              "      <td>1</td>\n",
              "      <td>1</td>\n",
              "      <td>97</td>\n",
              "      <td>2</td>\n",
              "      <td>53</td>\n",
              "      <td>2</td>\n",
              "      <td>2</td>\n",
              "      <td>2</td>\n",
              "      <td>2</td>\n",
              "      <td>2</td>\n",
              "      <td>2</td>\n",
              "      <td>2</td>\n",
              "      <td>2</td>\n",
              "      <td>2</td>\n",
              "      <td>2</td>\n",
              "      <td>2</td>\n",
              "      <td>7</td>\n",
              "      <td>97</td>\n",
              "    </tr>\n",
              "    <tr>\n",
              "      <th>4</th>\n",
              "      <td>2</td>\n",
              "      <td>1</td>\n",
              "      <td>2</td>\n",
              "      <td>1</td>\n",
              "      <td>97</td>\n",
              "      <td>2</td>\n",
              "      <td>68</td>\n",
              "      <td>97</td>\n",
              "      <td>1</td>\n",
              "      <td>2</td>\n",
              "      <td>2</td>\n",
              "      <td>2</td>\n",
              "      <td>1</td>\n",
              "      <td>2</td>\n",
              "      <td>2</td>\n",
              "      <td>2</td>\n",
              "      <td>2</td>\n",
              "      <td>2</td>\n",
              "      <td>3</td>\n",
              "      <td>97</td>\n",
              "    </tr>\n",
              "    <tr>\n",
              "      <th>...</th>\n",
              "      <td>...</td>\n",
              "      <td>...</td>\n",
              "      <td>...</td>\n",
              "      <td>...</td>\n",
              "      <td>...</td>\n",
              "      <td>...</td>\n",
              "      <td>...</td>\n",
              "      <td>...</td>\n",
              "      <td>...</td>\n",
              "      <td>...</td>\n",
              "      <td>...</td>\n",
              "      <td>...</td>\n",
              "      <td>...</td>\n",
              "      <td>...</td>\n",
              "      <td>...</td>\n",
              "      <td>...</td>\n",
              "      <td>...</td>\n",
              "      <td>...</td>\n",
              "      <td>...</td>\n",
              "      <td>...</td>\n",
              "    </tr>\n",
              "    <tr>\n",
              "      <th>1048570</th>\n",
              "      <td>2</td>\n",
              "      <td>13</td>\n",
              "      <td>2</td>\n",
              "      <td>1</td>\n",
              "      <td>97</td>\n",
              "      <td>2</td>\n",
              "      <td>40</td>\n",
              "      <td>97</td>\n",
              "      <td>2</td>\n",
              "      <td>2</td>\n",
              "      <td>2</td>\n",
              "      <td>2</td>\n",
              "      <td>2</td>\n",
              "      <td>2</td>\n",
              "      <td>2</td>\n",
              "      <td>2</td>\n",
              "      <td>2</td>\n",
              "      <td>2</td>\n",
              "      <td>7</td>\n",
              "      <td>97</td>\n",
              "    </tr>\n",
              "    <tr>\n",
              "      <th>1048571</th>\n",
              "      <td>1</td>\n",
              "      <td>13</td>\n",
              "      <td>2</td>\n",
              "      <td>2</td>\n",
              "      <td>2</td>\n",
              "      <td>2</td>\n",
              "      <td>51</td>\n",
              "      <td>97</td>\n",
              "      <td>2</td>\n",
              "      <td>2</td>\n",
              "      <td>2</td>\n",
              "      <td>2</td>\n",
              "      <td>1</td>\n",
              "      <td>2</td>\n",
              "      <td>2</td>\n",
              "      <td>2</td>\n",
              "      <td>2</td>\n",
              "      <td>2</td>\n",
              "      <td>7</td>\n",
              "      <td>2</td>\n",
              "    </tr>\n",
              "    <tr>\n",
              "      <th>1048572</th>\n",
              "      <td>2</td>\n",
              "      <td>13</td>\n",
              "      <td>2</td>\n",
              "      <td>1</td>\n",
              "      <td>97</td>\n",
              "      <td>2</td>\n",
              "      <td>55</td>\n",
              "      <td>97</td>\n",
              "      <td>2</td>\n",
              "      <td>2</td>\n",
              "      <td>2</td>\n",
              "      <td>2</td>\n",
              "      <td>2</td>\n",
              "      <td>2</td>\n",
              "      <td>2</td>\n",
              "      <td>2</td>\n",
              "      <td>2</td>\n",
              "      <td>2</td>\n",
              "      <td>7</td>\n",
              "      <td>97</td>\n",
              "    </tr>\n",
              "    <tr>\n",
              "      <th>1048573</th>\n",
              "      <td>2</td>\n",
              "      <td>13</td>\n",
              "      <td>2</td>\n",
              "      <td>1</td>\n",
              "      <td>97</td>\n",
              "      <td>2</td>\n",
              "      <td>28</td>\n",
              "      <td>97</td>\n",
              "      <td>2</td>\n",
              "      <td>2</td>\n",
              "      <td>2</td>\n",
              "      <td>2</td>\n",
              "      <td>2</td>\n",
              "      <td>2</td>\n",
              "      <td>2</td>\n",
              "      <td>2</td>\n",
              "      <td>2</td>\n",
              "      <td>2</td>\n",
              "      <td>7</td>\n",
              "      <td>97</td>\n",
              "    </tr>\n",
              "    <tr>\n",
              "      <th>1048574</th>\n",
              "      <td>2</td>\n",
              "      <td>13</td>\n",
              "      <td>2</td>\n",
              "      <td>1</td>\n",
              "      <td>97</td>\n",
              "      <td>2</td>\n",
              "      <td>52</td>\n",
              "      <td>97</td>\n",
              "      <td>2</td>\n",
              "      <td>2</td>\n",
              "      <td>2</td>\n",
              "      <td>2</td>\n",
              "      <td>2</td>\n",
              "      <td>2</td>\n",
              "      <td>2</td>\n",
              "      <td>2</td>\n",
              "      <td>2</td>\n",
              "      <td>2</td>\n",
              "      <td>7</td>\n",
              "      <td>97</td>\n",
              "    </tr>\n",
              "  </tbody>\n",
              "</table>\n",
              "<p>1048575 rows × 20 columns</p>\n",
              "</div>\n",
              "      <button class=\"colab-df-convert\" onclick=\"convertToInteractive('df-a759254f-d897-4a6d-9b3d-c0c050cca122')\"\n",
              "              title=\"Convert this dataframe to an interactive table.\"\n",
              "              style=\"display:none;\">\n",
              "        \n",
              "  <svg xmlns=\"http://www.w3.org/2000/svg\" height=\"24px\"viewBox=\"0 0 24 24\"\n",
              "       width=\"24px\">\n",
              "    <path d=\"M0 0h24v24H0V0z\" fill=\"none\"/>\n",
              "    <path d=\"M18.56 5.44l.94 2.06.94-2.06 2.06-.94-2.06-.94-.94-2.06-.94 2.06-2.06.94zm-11 1L8.5 8.5l.94-2.06 2.06-.94-2.06-.94L8.5 2.5l-.94 2.06-2.06.94zm10 10l.94 2.06.94-2.06 2.06-.94-2.06-.94-.94-2.06-.94 2.06-2.06.94z\"/><path d=\"M17.41 7.96l-1.37-1.37c-.4-.4-.92-.59-1.43-.59-.52 0-1.04.2-1.43.59L10.3 9.45l-7.72 7.72c-.78.78-.78 2.05 0 2.83L4 21.41c.39.39.9.59 1.41.59.51 0 1.02-.2 1.41-.59l7.78-7.78 2.81-2.81c.8-.78.8-2.07 0-2.86zM5.41 20L4 18.59l7.72-7.72 1.47 1.35L5.41 20z\"/>\n",
              "  </svg>\n",
              "      </button>\n",
              "      \n",
              "  <style>\n",
              "    .colab-df-container {\n",
              "      display:flex;\n",
              "      flex-wrap:wrap;\n",
              "      gap: 12px;\n",
              "    }\n",
              "\n",
              "    .colab-df-convert {\n",
              "      background-color: #E8F0FE;\n",
              "      border: none;\n",
              "      border-radius: 50%;\n",
              "      cursor: pointer;\n",
              "      display: none;\n",
              "      fill: #1967D2;\n",
              "      height: 32px;\n",
              "      padding: 0 0 0 0;\n",
              "      width: 32px;\n",
              "    }\n",
              "\n",
              "    .colab-df-convert:hover {\n",
              "      background-color: #E2EBFA;\n",
              "      box-shadow: 0px 1px 2px rgba(60, 64, 67, 0.3), 0px 1px 3px 1px rgba(60, 64, 67, 0.15);\n",
              "      fill: #174EA6;\n",
              "    }\n",
              "\n",
              "    [theme=dark] .colab-df-convert {\n",
              "      background-color: #3B4455;\n",
              "      fill: #D2E3FC;\n",
              "    }\n",
              "\n",
              "    [theme=dark] .colab-df-convert:hover {\n",
              "      background-color: #434B5C;\n",
              "      box-shadow: 0px 1px 3px 1px rgba(0, 0, 0, 0.15);\n",
              "      filter: drop-shadow(0px 1px 2px rgba(0, 0, 0, 0.3));\n",
              "      fill: #FFFFFF;\n",
              "    }\n",
              "  </style>\n",
              "\n",
              "      <script>\n",
              "        const buttonEl =\n",
              "          document.querySelector('#df-a759254f-d897-4a6d-9b3d-c0c050cca122 button.colab-df-convert');\n",
              "        buttonEl.style.display =\n",
              "          google.colab.kernel.accessAllowed ? 'block' : 'none';\n",
              "\n",
              "        async function convertToInteractive(key) {\n",
              "          const element = document.querySelector('#df-a759254f-d897-4a6d-9b3d-c0c050cca122');\n",
              "          const dataTable =\n",
              "            await google.colab.kernel.invokeFunction('convertToInteractive',\n",
              "                                                     [key], {});\n",
              "          if (!dataTable) return;\n",
              "\n",
              "          const docLinkHtml = 'Like what you see? Visit the ' +\n",
              "            '<a target=\"_blank\" href=https://colab.research.google.com/notebooks/data_table.ipynb>data table notebook</a>'\n",
              "            + ' to learn more about interactive tables.';\n",
              "          element.innerHTML = '';\n",
              "          dataTable['output_type'] = 'display_data';\n",
              "          await google.colab.output.renderOutput(dataTable, element);\n",
              "          const docLink = document.createElement('div');\n",
              "          docLink.innerHTML = docLinkHtml;\n",
              "          element.appendChild(docLink);\n",
              "        }\n",
              "      </script>\n",
              "    </div>\n",
              "  </div>\n",
              "  "
            ]
          },
          "metadata": {},
          "execution_count": 198
        }
      ],
      "source": [
        "from sklearn.model_selection import train_test_split\n",
        "\n",
        "X = df.drop(columns=\"DEATH\")\n",
        "y = df[\"DEATH\"]\n",
        "\n",
        "Xtr, Xts, ytr, yts = train_test_split(X,y,test_size=0.2,random_state=42)\n",
        "print(\"Train x :\",Xtr.shape)\n",
        "print(\"Test x :\",Xts.shape)\n",
        "print(\"Train y :\",ytr.shape)\n",
        "print(\"Test y :\",yts.shape)\n",
        "\n",
        "X"
      ]
    },
    {
      "cell_type": "markdown",
      "source": [
        "Now we create a linear regresion model on the dataset and check its accuracy"
      ],
      "metadata": {
        "id": "PleLyWtJ0GmT"
      }
    },
    {
      "cell_type": "code",
      "execution_count": 199,
      "metadata": {
        "colab": {
          "base_uri": "https://localhost:8080/"
        },
        "id": "W6ChxgG4Z0hX",
        "outputId": "a6a23e4a-2e4e-4c52-fde4-a983b9384b63"
      },
      "outputs": [
        {
          "output_type": "stream",
          "name": "stdout",
          "text": [
            "Linear Regression Accuracy : 0.30115335137646615\n"
          ]
        }
      ],
      "source": [
        "from sklearn.linear_model import LinearRegression\n",
        "\n",
        "linreg = LinearRegression()\n",
        "linreg.fit(Xtr,ytr)\n",
        "print(\"Linear Regression Accuracy :\",linreg.score(Xts, yts))"
      ]
    },
    {
      "cell_type": "markdown",
      "source": [
        "You can see that the accuracy obtained for linear regression is very low. This is because our problem is a classification problem and not a regression problem. So we instead we use logistic regression to create our model."
      ],
      "metadata": {
        "id": "gHLcIHwm0LnL"
      }
    },
    {
      "cell_type": "code",
      "execution_count": 201,
      "metadata": {
        "colab": {
          "base_uri": "https://localhost:8080/"
        },
        "id": "BhE69CJxZO97",
        "outputId": "6d354ca3-dff4-4c10-ed33-ef5255d9525b"
      },
      "outputs": [
        {
          "output_type": "stream",
          "name": "stdout",
          "text": [
            "Logistic Regression Accuracy : 0.9356889111413108\n"
          ]
        },
        {
          "output_type": "stream",
          "name": "stderr",
          "text": [
            "/usr/local/lib/python3.8/dist-packages/sklearn/linear_model/_logistic.py:814: ConvergenceWarning: lbfgs failed to converge (status=1):\n",
            "STOP: TOTAL NO. of ITERATIONS REACHED LIMIT.\n",
            "\n",
            "Increase the number of iterations (max_iter) or scale the data as shown in:\n",
            "    https://scikit-learn.org/stable/modules/preprocessing.html\n",
            "Please also refer to the documentation for alternative solver options:\n",
            "    https://scikit-learn.org/stable/modules/linear_model.html#logistic-regression\n",
            "  n_iter_i = _check_optimize_result(\n"
          ]
        }
      ],
      "source": [
        "from sklearn.linear_model import LogisticRegression\n",
        "\n",
        "logreg = LogisticRegression()\n",
        "logreg.fit(Xtr,ytr)\n",
        "print(\"Logistic Regression Accuracy :\",logreg.score(Xts, yts))"
      ]
    },
    {
      "cell_type": "markdown",
      "source": [
        "We now how our prediction algorithm performs if we use a Decison Tree instead of logistic Regression"
      ],
      "metadata": {
        "id": "1esLUzSu0vwo"
      }
    },
    {
      "cell_type": "code",
      "execution_count": 202,
      "metadata": {
        "colab": {
          "base_uri": "https://localhost:8080/"
        },
        "id": "hD_F0YFqahWA",
        "outputId": "5cdff1f4-b7a6-4975-e685-2db07d07c4d4"
      },
      "outputs": [
        {
          "output_type": "stream",
          "name": "stdout",
          "text": [
            "Decision Tree : 0.9398278616217247\n"
          ]
        }
      ],
      "source": [
        "from sklearn.tree import DecisionTreeClassifier\n",
        "dt = DecisionTreeClassifier()\n",
        "dt.fit(Xtr,ytr)\n",
        "print(\"Decision Tree :\",dt.score(Xts, yts))"
      ]
    },
    {
      "cell_type": "markdown",
      "source": [
        "We notice that the model using the decision tree performs better than logistic regression this because our dataset is large . Furthermore logistic regression works best only for simple datasets which are small and linearly seperable. For larger datasets more complex models are generally preferred. We will next see how welldoes  the random forest model which makes use of multiple decision trees work on this dataset."
      ],
      "metadata": {
        "id": "QnRoL_VF1FAd"
      }
    },
    {
      "cell_type": "code",
      "execution_count": 203,
      "metadata": {
        "colab": {
          "base_uri": "https://localhost:8080/"
        },
        "id": "yvi1UEGNaGCF",
        "outputId": "0e701cbf-f7f7-4ffb-b4e8-36ffe047c57b"
      },
      "outputs": [
        {
          "output_type": "stream",
          "name": "stdout",
          "text": [
            "Random forrest Accuracy : 0.9447822044202847\n"
          ]
        }
      ],
      "source": [
        "from sklearn.ensemble import RandomForestClassifier\n",
        "rf = RandomForestClassifier()\n",
        "rf.fit(Xtr,ytr)\n",
        "print(\"Random forrest Accuracy :\",rf.score(Xts, yts))"
      ]
    },
    {
      "cell_type": "markdown",
      "source": [
        "We will see how well a prediction algorithm using a nueral network works on the test data. For the neural network which we have built. We are using an input layer a hiden layer and an output layer. Since there are 20 input features in our dataset we are using (2*20 -1) hidden units(neurons) in each hidden layer. 1 output unit the number of epochs is 30. The activation function chosen is relu for the hidden layers and sigmoid for the output layer. We chose these hyperparameters after reading this article https://medium.com/codex/how-to-tune-hyperparameters-for-better-neural-network-performance-b8f542855d2e on medium."
      ],
      "metadata": {
        "id": "E_5vyzyA3IWJ"
      }
    },
    {
      "cell_type": "code",
      "execution_count": 204,
      "metadata": {
        "id": "-VONuIHndo41"
      },
      "outputs": [],
      "source": [
        "from tensorflow.keras.models import Model, Sequential\n",
        "from tensorflow.keras.layers import Dense, Activation\n",
        "\n",
        "nin = Xtr.shape[1] \n",
        "nh = 39    \n",
        "nout = 1   \n",
        "model = Sequential()\n",
        "model.add(Dense(units=nh, input_shape=(nin,), activation='relu', name='hidden'))\n",
        "model.add(Dense(units=nh, activation='relu', name='hidden2'))\n",
        "model.add(Dense(units=nout, activation='sigmoid', name='output'))\n",
        "\n"
      ]
    },
    {
      "cell_type": "code",
      "execution_count": 207,
      "metadata": {
        "colab": {
          "base_uri": "https://localhost:8080/"
        },
        "id": "GbRD3m2xeul-",
        "outputId": "159f2417-fded-4a3b-ac06-fbf53df4a6f4"
      },
      "outputs": [
        {
          "output_type": "stream",
          "name": "stderr",
          "text": [
            "/usr/local/lib/python3.8/dist-packages/keras/optimizers/optimizer_v2/adam.py:110: UserWarning: The `lr` argument is deprecated, use `learning_rate` instead.\n",
            "  super(Adam, self).__init__(name, **kwargs)\n"
          ]
        }
      ],
      "source": [
        "from tensorflow.keras import optimizers\n",
        "\n",
        "opt = optimizers.Adam(lr=0.001) \n",
        "model.compile(optimizer=opt,\n",
        "              loss='binary_crossentropy',\n",
        "              metrics=['accuracy'])"
      ]
    },
    {
      "cell_type": "code",
      "execution_count": 208,
      "metadata": {
        "colab": {
          "base_uri": "https://localhost:8080/"
        },
        "id": "g7jaGSxBeyse",
        "outputId": "7591efd8-08d6-46c4-b241-910549970636"
      },
      "outputs": [
        {
          "output_type": "stream",
          "name": "stdout",
          "text": [
            "Epoch 1/30\n",
            "8389/8389 [==============================] - 22s 2ms/step - loss: 0.1434 - accuracy: 0.9379 - val_loss: 0.1290 - val_accuracy: 0.9452\n",
            "Epoch 2/30\n",
            "8389/8389 [==============================] - 22s 3ms/step - loss: 0.1260 - accuracy: 0.9457 - val_loss: 0.1203 - val_accuracy: 0.9483\n",
            "Epoch 3/30\n",
            "8389/8389 [==============================] - 21s 2ms/step - loss: 0.1217 - accuracy: 0.9473 - val_loss: 0.1192 - val_accuracy: 0.9478\n",
            "Epoch 4/30\n",
            "8389/8389 [==============================] - 22s 3ms/step - loss: 0.1200 - accuracy: 0.9476 - val_loss: 0.1196 - val_accuracy: 0.9495\n",
            "Epoch 5/30\n",
            "8389/8389 [==============================] - 22s 3ms/step - loss: 0.1189 - accuracy: 0.9482 - val_loss: 0.1195 - val_accuracy: 0.9481\n",
            "Epoch 6/30\n",
            "8389/8389 [==============================] - 21s 3ms/step - loss: 0.1183 - accuracy: 0.9484 - val_loss: 0.1198 - val_accuracy: 0.9485\n",
            "Epoch 7/30\n",
            "8389/8389 [==============================] - 21s 2ms/step - loss: 0.1179 - accuracy: 0.9486 - val_loss: 0.1181 - val_accuracy: 0.9491\n",
            "Epoch 8/30\n",
            "8389/8389 [==============================] - 21s 3ms/step - loss: 0.1177 - accuracy: 0.9486 - val_loss: 0.1158 - val_accuracy: 0.9501\n",
            "Epoch 9/30\n",
            "8389/8389 [==============================] - 22s 3ms/step - loss: 0.1174 - accuracy: 0.9487 - val_loss: 0.1149 - val_accuracy: 0.9502\n",
            "Epoch 10/30\n",
            "8389/8389 [==============================] - 21s 3ms/step - loss: 0.1171 - accuracy: 0.9488 - val_loss: 0.1196 - val_accuracy: 0.9494\n",
            "Epoch 11/30\n",
            "8389/8389 [==============================] - 21s 3ms/step - loss: 0.1170 - accuracy: 0.9488 - val_loss: 0.1206 - val_accuracy: 0.9480\n",
            "Epoch 12/30\n",
            "8389/8389 [==============================] - 22s 3ms/step - loss: 0.1168 - accuracy: 0.9489 - val_loss: 0.1157 - val_accuracy: 0.9498\n",
            "Epoch 13/30\n",
            "8389/8389 [==============================] - 22s 3ms/step - loss: 0.1166 - accuracy: 0.9490 - val_loss: 0.1156 - val_accuracy: 0.9499\n",
            "Epoch 14/30\n",
            "8389/8389 [==============================] - 21s 3ms/step - loss: 0.1165 - accuracy: 0.9491 - val_loss: 0.1154 - val_accuracy: 0.9501\n",
            "Epoch 15/30\n",
            "8389/8389 [==============================] - 22s 3ms/step - loss: 0.1164 - accuracy: 0.9493 - val_loss: 0.1162 - val_accuracy: 0.9502\n",
            "Epoch 16/30\n",
            "8389/8389 [==============================] - 21s 3ms/step - loss: 0.1162 - accuracy: 0.9492 - val_loss: 0.1152 - val_accuracy: 0.9504\n",
            "Epoch 17/30\n",
            "8389/8389 [==============================] - 23s 3ms/step - loss: 0.1161 - accuracy: 0.9493 - val_loss: 0.1147 - val_accuracy: 0.9499\n",
            "Epoch 18/30\n",
            "8389/8389 [==============================] - 21s 3ms/step - loss: 0.1160 - accuracy: 0.9492 - val_loss: 0.1150 - val_accuracy: 0.9502\n",
            "Epoch 19/30\n",
            "8389/8389 [==============================] - 21s 2ms/step - loss: 0.1158 - accuracy: 0.9493 - val_loss: 0.1160 - val_accuracy: 0.9499\n",
            "Epoch 20/30\n",
            "8389/8389 [==============================] - 21s 2ms/step - loss: 0.1157 - accuracy: 0.9493 - val_loss: 0.1146 - val_accuracy: 0.9501\n",
            "Epoch 21/30\n",
            "8389/8389 [==============================] - 20s 2ms/step - loss: 0.1157 - accuracy: 0.9495 - val_loss: 0.1144 - val_accuracy: 0.9502\n",
            "Epoch 22/30\n",
            "8389/8389 [==============================] - 21s 3ms/step - loss: 0.1156 - accuracy: 0.9494 - val_loss: 0.1175 - val_accuracy: 0.9491\n",
            "Epoch 23/30\n",
            "8389/8389 [==============================] - 22s 3ms/step - loss: 0.1155 - accuracy: 0.9495 - val_loss: 0.1151 - val_accuracy: 0.9499\n",
            "Epoch 24/30\n",
            "8389/8389 [==============================] - 21s 2ms/step - loss: 0.1154 - accuracy: 0.9495 - val_loss: 0.1155 - val_accuracy: 0.9494\n",
            "Epoch 25/30\n",
            "8389/8389 [==============================] - 22s 3ms/step - loss: 0.1153 - accuracy: 0.9496 - val_loss: 0.1144 - val_accuracy: 0.9503\n",
            "Epoch 26/30\n",
            "8389/8389 [==============================] - 22s 3ms/step - loss: 0.1152 - accuracy: 0.9496 - val_loss: 0.1167 - val_accuracy: 0.9498\n",
            "Epoch 27/30\n",
            "8389/8389 [==============================] - 22s 3ms/step - loss: 0.1152 - accuracy: 0.9497 - val_loss: 0.1154 - val_accuracy: 0.9502\n",
            "Epoch 28/30\n",
            "8389/8389 [==============================] - 21s 2ms/step - loss: 0.1152 - accuracy: 0.9496 - val_loss: 0.1143 - val_accuracy: 0.9503\n",
            "Epoch 29/30\n",
            "8389/8389 [==============================] - 21s 2ms/step - loss: 0.1150 - accuracy: 0.9498 - val_loss: 0.1138 - val_accuracy: 0.9509\n",
            "Epoch 30/30\n",
            "8389/8389 [==============================] - 21s 2ms/step - loss: 0.1149 - accuracy: 0.9498 - val_loss: 0.1145 - val_accuracy: 0.9500\n"
          ]
        }
      ],
      "source": [
        "hist = model.fit(Xtr, ytr, epochs=30, batch_size=100, validation_data=(Xts,yts))"
      ]
    },
    {
      "cell_type": "code",
      "execution_count": 209,
      "metadata": {
        "colab": {
          "base_uri": "https://localhost:8080/"
        },
        "id": "W9ICmxO5fHqx",
        "outputId": "c867e671-e4b5-4e7c-dcf7-5a9da83f26fe"
      },
      "outputs": [
        {
          "output_type": "stream",
          "name": "stdout",
          "text": [
            "6554/6554 [==============================] - 10s 2ms/step - loss: 0.1145 - accuracy: 0.9500\n",
            "Test accuracy: 0.9500464797019958\n"
          ]
        }
      ],
      "source": [
        "score, acc = model.evaluate(Xts, yts)\n",
        "print('Test accuracy:', acc)"
      ]
    },
    {
      "cell_type": "markdown",
      "source": [
        "We have run all our models . However we can still improve the accuracy by doing some feature selection to remove some irrelevant features which might be reducing the accuracy of our model. Furthermore our dataset contains some values which are actually null values which migth be affecting our overall result. In the dataset we used the null values are 97 and 99.\n"
      ],
      "metadata": {
        "id": "b5wzbl6-5hmF"
      }
    },
    {
      "cell_type": "code",
      "source": [
        "q1=df.columns\n",
        "q1"
      ],
      "metadata": {
        "colab": {
          "base_uri": "https://localhost:8080/"
        },
        "id": "523hPpHSVo_-",
        "outputId": "6634e8cb-28bc-494d-abaf-8bad782aef81"
      },
      "execution_count": 210,
      "outputs": [
        {
          "output_type": "execute_result",
          "data": {
            "text/plain": [
              "Index(['USMER', 'MEDICAL_UNIT', 'SEX', 'PATIENT_TYPE', 'INTUBED', 'PNEUMONIA',\n",
              "       'AGE', 'PREGNANT', 'DIABETES', 'COPD', 'ASTHMA', 'INMSUPR',\n",
              "       'HIPERTENSION', 'OTHER_DISEASE', 'CARDIOVASCULAR', 'OBESITY',\n",
              "       'RENAL_CHRONIC', 'TOBACCO', 'CLASIFFICATION_FINAL', 'ICU', 'DEATH'],\n",
              "      dtype='object')"
            ]
          },
          "metadata": {},
          "execution_count": 210
        }
      ]
    },
    {
      "cell_type": "markdown",
      "source": [
        "Before any feature selection is done we see the count of the unique values for each feature in the dataset."
      ],
      "metadata": {
        "id": "aH4yzWsM_dCd"
      }
    },
    {
      "cell_type": "code",
      "source": [
        "df['USMER'].value_counts()"
      ],
      "metadata": {
        "colab": {
          "base_uri": "https://localhost:8080/"
        },
        "id": "5XRpSVV-eVyT",
        "outputId": "bdcc30a0-0359-44d8-cece-33c9d178a58c"
      },
      "execution_count": 211,
      "outputs": [
        {
          "output_type": "execute_result",
          "data": {
            "text/plain": [
              "2    662903\n",
              "1    385672\n",
              "Name: USMER, dtype: int64"
            ]
          },
          "metadata": {},
          "execution_count": 211
        }
      ]
    },
    {
      "cell_type": "code",
      "source": [
        "df['MEDICAL_UNIT'].value_counts()"
      ],
      "metadata": {
        "colab": {
          "base_uri": "https://localhost:8080/"
        },
        "id": "xYHJDjoEecKA",
        "outputId": "750b6f82-06de-4b3b-b79e-febd49d06c26"
      },
      "execution_count": 212,
      "outputs": [
        {
          "output_type": "execute_result",
          "data": {
            "text/plain": [
              "12    602995\n",
              "4     314405\n",
              "6      40584\n",
              "9      38116\n",
              "3      19175\n",
              "8      10399\n",
              "10      7873\n",
              "5       7244\n",
              "11      5577\n",
              "13       996\n",
              "7        891\n",
              "2        169\n",
              "1        151\n",
              "Name: MEDICAL_UNIT, dtype: int64"
            ]
          },
          "metadata": {},
          "execution_count": 212
        }
      ]
    },
    {
      "cell_type": "code",
      "source": [
        "df['SEX'].value_counts()"
      ],
      "metadata": {
        "colab": {
          "base_uri": "https://localhost:8080/"
        },
        "id": "8aklCwZuelvg",
        "outputId": "bb01a8ac-2386-4001-ff9a-8bb747681465"
      },
      "execution_count": 213,
      "outputs": [
        {
          "output_type": "execute_result",
          "data": {
            "text/plain": [
              "1    525064\n",
              "2    523511\n",
              "Name: SEX, dtype: int64"
            ]
          },
          "metadata": {},
          "execution_count": 213
        }
      ]
    },
    {
      "cell_type": "code",
      "source": [
        "df['PATIENT_TYPE'].value_counts()"
      ],
      "metadata": {
        "colab": {
          "base_uri": "https://localhost:8080/"
        },
        "id": "fay4ym7LesQL",
        "outputId": "f599fa15-3b5f-4108-f023-178c211ecec4"
      },
      "execution_count": 214,
      "outputs": [
        {
          "output_type": "execute_result",
          "data": {
            "text/plain": [
              "1    848544\n",
              "2    200031\n",
              "Name: PATIENT_TYPE, dtype: int64"
            ]
          },
          "metadata": {},
          "execution_count": 214
        }
      ]
    },
    {
      "cell_type": "code",
      "source": [
        "df['INTUBED'].value_counts()"
      ],
      "metadata": {
        "colab": {
          "base_uri": "https://localhost:8080/"
        },
        "id": "M8a4kjRievOT",
        "outputId": "d38bcb30-b2c1-465b-fa76-dc73ed38342f"
      },
      "execution_count": 215,
      "outputs": [
        {
          "output_type": "execute_result",
          "data": {
            "text/plain": [
              "97    848544\n",
              "2     159050\n",
              "1      33656\n",
              "99      7325\n",
              "Name: INTUBED, dtype: int64"
            ]
          },
          "metadata": {},
          "execution_count": 215
        }
      ]
    },
    {
      "cell_type": "code",
      "source": [
        "df['PNEUMONIA'].value_counts()"
      ],
      "metadata": {
        "colab": {
          "base_uri": "https://localhost:8080/"
        },
        "id": "qTA3sfzqe3YP",
        "outputId": "acf674ef-6117-4cf9-8c3c-d8a8b1ee62b2"
      },
      "execution_count": 216,
      "outputs": [
        {
          "output_type": "execute_result",
          "data": {
            "text/plain": [
              "2     892534\n",
              "1     140038\n",
              "99     16003\n",
              "Name: PNEUMONIA, dtype: int64"
            ]
          },
          "metadata": {},
          "execution_count": 216
        }
      ]
    },
    {
      "cell_type": "code",
      "source": [
        "df['AGE'].value_counts()"
      ],
      "metadata": {
        "colab": {
          "base_uri": "https://localhost:8080/"
        },
        "id": "evI-wwoZfPQX",
        "outputId": "66c10678-a6ee-4f7a-eb18-e46855167d1e"
      },
      "execution_count": 217,
      "outputs": [
        {
          "output_type": "execute_result",
          "data": {
            "text/plain": [
              "30     27010\n",
              "31     25927\n",
              "28     25313\n",
              "29     25134\n",
              "34     24872\n",
              "       ...  \n",
              "114        2\n",
              "116        2\n",
              "111        1\n",
              "121        1\n",
              "113        1\n",
              "Name: AGE, Length: 121, dtype: int64"
            ]
          },
          "metadata": {},
          "execution_count": 217
        }
      ]
    },
    {
      "cell_type": "code",
      "source": [
        "df['PREGNANT'].value_counts()"
      ],
      "metadata": {
        "colab": {
          "base_uri": "https://localhost:8080/"
        },
        "id": "rv1-FUUFe-uk",
        "outputId": "15d58e3d-f04c-4ee0-c798-70da3808e105"
      },
      "execution_count": 218,
      "outputs": [
        {
          "output_type": "execute_result",
          "data": {
            "text/plain": [
              "97    523511\n",
              "2     513179\n",
              "1       8131\n",
              "98      3754\n",
              "Name: PREGNANT, dtype: int64"
            ]
          },
          "metadata": {},
          "execution_count": 218
        }
      ]
    },
    {
      "cell_type": "code",
      "source": [
        "df['DIABETES'].value_counts()"
      ],
      "metadata": {
        "colab": {
          "base_uri": "https://localhost:8080/"
        },
        "id": "O0MuGjQifery",
        "outputId": "2273a326-14ef-41e5-96b3-a4c577dda82d"
      },
      "execution_count": 219,
      "outputs": [
        {
          "output_type": "execute_result",
          "data": {
            "text/plain": [
              "2     920248\n",
              "1     124989\n",
              "98      3338\n",
              "Name: DIABETES, dtype: int64"
            ]
          },
          "metadata": {},
          "execution_count": 219
        }
      ]
    },
    {
      "cell_type": "code",
      "source": [
        "df['COPD'].value_counts()"
      ],
      "metadata": {
        "colab": {
          "base_uri": "https://localhost:8080/"
        },
        "id": "Xx7PRw1Mfyi-",
        "outputId": "7190aee6-3d92-4225-a0d3-175ed9b17d62"
      },
      "execution_count": 220,
      "outputs": [
        {
          "output_type": "execute_result",
          "data": {
            "text/plain": [
              "2     1030510\n",
              "1       15062\n",
              "98       3003\n",
              "Name: COPD, dtype: int64"
            ]
          },
          "metadata": {},
          "execution_count": 220
        }
      ]
    },
    {
      "cell_type": "code",
      "source": [
        "df['ASTHMA'].value_counts()"
      ],
      "metadata": {
        "colab": {
          "base_uri": "https://localhost:8080/"
        },
        "id": "o9IJTCFif3B1",
        "outputId": "4bd4f97e-d5fc-4c9b-abed-95446b4e8707"
      },
      "execution_count": 221,
      "outputs": [
        {
          "output_type": "execute_result",
          "data": {
            "text/plain": [
              "2     1014024\n",
              "1       31572\n",
              "98       2979\n",
              "Name: ASTHMA, dtype: int64"
            ]
          },
          "metadata": {},
          "execution_count": 221
        }
      ]
    },
    {
      "cell_type": "code",
      "source": [
        "df['INMSUPR'].value_counts()"
      ],
      "metadata": {
        "colab": {
          "base_uri": "https://localhost:8080/"
        },
        "id": "1Ps1cv93gKV6",
        "outputId": "2f850497-5f3d-457d-e2e4-d7efec5cf78e"
      },
      "execution_count": 222,
      "outputs": [
        {
          "output_type": "execute_result",
          "data": {
            "text/plain": [
              "2     1031001\n",
              "1       14170\n",
              "98       3404\n",
              "Name: INMSUPR, dtype: int64"
            ]
          },
          "metadata": {},
          "execution_count": 222
        }
      ]
    },
    {
      "cell_type": "code",
      "source": [
        "df['HIPERTENSION'].value_counts()"
      ],
      "metadata": {
        "colab": {
          "base_uri": "https://localhost:8080/"
        },
        "id": "peDUdtC9gPfO",
        "outputId": "0c34fbb5-26e7-4cdc-dbaa-1bd4939c9923"
      },
      "execution_count": 223,
      "outputs": [
        {
          "output_type": "execute_result",
          "data": {
            "text/plain": [
              "2     882742\n",
              "1     162729\n",
              "98      3104\n",
              "Name: HIPERTENSION, dtype: int64"
            ]
          },
          "metadata": {},
          "execution_count": 223
        }
      ]
    },
    {
      "cell_type": "code",
      "source": [
        "df['OTHER_DISEASE'].value_counts()"
      ],
      "metadata": {
        "colab": {
          "base_uri": "https://localhost:8080/"
        },
        "id": "GDrUUTtkgUfS",
        "outputId": "9d2d2f9c-7dbf-47a8-eb14-8384481032fe"
      },
      "execution_count": 224,
      "outputs": [
        {
          "output_type": "execute_result",
          "data": {
            "text/plain": [
              "2     1015490\n",
              "1       28040\n",
              "98       5045\n",
              "Name: OTHER_DISEASE, dtype: int64"
            ]
          },
          "metadata": {},
          "execution_count": 224
        }
      ]
    },
    {
      "cell_type": "code",
      "source": [
        "df['CARDIOVASCULAR'].value_counts()"
      ],
      "metadata": {
        "colab": {
          "base_uri": "https://localhost:8080/"
        },
        "id": "3N9J3sxMgZOH",
        "outputId": "a31e8777-3f9a-4b47-e4fc-96955a1470e6"
      },
      "execution_count": 225,
      "outputs": [
        {
          "output_type": "execute_result",
          "data": {
            "text/plain": [
              "2     1024730\n",
              "1       20769\n",
              "98       3076\n",
              "Name: CARDIOVASCULAR, dtype: int64"
            ]
          },
          "metadata": {},
          "execution_count": 225
        }
      ]
    },
    {
      "cell_type": "code",
      "source": [
        "df['OBESITY'].value_counts()"
      ],
      "metadata": {
        "colab": {
          "base_uri": "https://localhost:8080/"
        },
        "id": "qraWGNk1gf-7",
        "outputId": "751c31fe-308d-4ef0-fb7b-c5dc17ece7b8"
      },
      "execution_count": 226,
      "outputs": [
        {
          "output_type": "execute_result",
          "data": {
            "text/plain": [
              "2     885727\n",
              "1     159816\n",
              "98      3032\n",
              "Name: OBESITY, dtype: int64"
            ]
          },
          "metadata": {},
          "execution_count": 226
        }
      ]
    },
    {
      "cell_type": "code",
      "source": [
        "df['RENAL_CHRONIC'].value_counts()"
      ],
      "metadata": {
        "colab": {
          "base_uri": "https://localhost:8080/"
        },
        "id": "iJqNdlFzgm2j",
        "outputId": "76793e5b-2d04-49c8-8bbd-f15e0dcd6bb0"
      },
      "execution_count": 227,
      "outputs": [
        {
          "output_type": "execute_result",
          "data": {
            "text/plain": [
              "2     1026665\n",
              "1       18904\n",
              "98       3006\n",
              "Name: RENAL_CHRONIC, dtype: int64"
            ]
          },
          "metadata": {},
          "execution_count": 227
        }
      ]
    },
    {
      "cell_type": "code",
      "source": [
        "df['TOBACCO'].value_counts()"
      ],
      "metadata": {
        "colab": {
          "base_uri": "https://localhost:8080/"
        },
        "id": "9mxmB-YVgwRg",
        "outputId": "1f56fa3c-a181-42c7-de57-9e460b39b664"
      },
      "execution_count": 228,
      "outputs": [
        {
          "output_type": "execute_result",
          "data": {
            "text/plain": [
              "2     960979\n",
              "1      84376\n",
              "98      3220\n",
              "Name: TOBACCO, dtype: int64"
            ]
          },
          "metadata": {},
          "execution_count": 228
        }
      ]
    },
    {
      "cell_type": "code",
      "source": [
        "df['CLASIFFICATION_FINAL'].value_counts()"
      ],
      "metadata": {
        "colab": {
          "base_uri": "https://localhost:8080/"
        },
        "id": "WaFgqzbpg36-",
        "outputId": "b2393f15-1b1f-4dd8-9408-75ba8f991064"
      },
      "execution_count": 229,
      "outputs": [
        {
          "output_type": "execute_result",
          "data": {
            "text/plain": [
              "7    499250\n",
              "3    381527\n",
              "6    128133\n",
              "5     26091\n",
              "1      8601\n",
              "4      3122\n",
              "2      1851\n",
              "Name: CLASIFFICATION_FINAL, dtype: int64"
            ]
          },
          "metadata": {},
          "execution_count": 229
        }
      ]
    },
    {
      "cell_type": "code",
      "source": [
        "df['ICU'].value_counts()"
      ],
      "metadata": {
        "colab": {
          "base_uri": "https://localhost:8080/"
        },
        "id": "53zAsEtBhU4H",
        "outputId": "6306347b-c718-45ae-c7ae-da45c4f295c9"
      },
      "execution_count": 230,
      "outputs": [
        {
          "output_type": "execute_result",
          "data": {
            "text/plain": [
              "97    848544\n",
              "2     175685\n",
              "1      16858\n",
              "99      7488\n",
              "Name: ICU, dtype: int64"
            ]
          },
          "metadata": {},
          "execution_count": 230
        }
      ]
    },
    {
      "cell_type": "markdown",
      "source": [
        "We notice that the features INTUBED and ICU have more than 50% of the data as null(value is 97 or 99). So we cant simply remove all rows having atleast one feature having 97 or 99 in the dataset as we wil end up losing a lot of data. However since both INTUBED and ICU are binary attributes we can use logistic regression to fill the null value in INTUBED and ICU. After this done we can delete all the rows having null values in atleast one feature. For dealing with situation above we made use of a similar technique found in https://www.analyticsvidhya.com/blog/2021/05/dealing-with-missing-values-in-python-a-complete-guide/."
      ],
      "metadata": {
        "id": "CfWJAqT5AB6a"
      }
    },
    {
      "cell_type": "code",
      "source": [
        "from numpy.ma.core import filled\n",
        "df_mod = df\n",
        "df_mod= df.loc[(df['ICU'] != 97) & (df['ICU'] != 99)]\n",
        "\n",
        "df_to_fill = df.loc[(df['ICU'] == 99) | (df['ICU'] == 97)]\n",
        "\n",
        "\n",
        "from sklearn.linear_model import LogisticRegression\n",
        "X_mod = df_mod.loc[:, df.columns != 'ICU']\n",
        "y_mod = df_mod['ICU']\n",
        "\n",
        "logreg = LogisticRegression()\n",
        "logreg.fit(X_mod, y_mod)\n",
        "\n",
        "\n",
        "\n",
        "\n",
        "df_to_fill['ICU']  = logreg.predict(df_to_fill.loc[:, df.columns != 'ICU'])\n",
        "\n",
        "\n",
        "filled_df = df_to_fill.append(df_mod)\n",
        "\n",
        "df = filled_df"
      ],
      "metadata": {
        "colab": {
          "base_uri": "https://localhost:8080/"
        },
        "id": "262NHsz7ihK0",
        "outputId": "9e249bed-237f-4996-9bf9-92434b6f9968"
      },
      "execution_count": 231,
      "outputs": [
        {
          "output_type": "stream",
          "name": "stderr",
          "text": [
            "/usr/local/lib/python3.8/dist-packages/sklearn/linear_model/_logistic.py:814: ConvergenceWarning: lbfgs failed to converge (status=1):\n",
            "STOP: TOTAL NO. of ITERATIONS REACHED LIMIT.\n",
            "\n",
            "Increase the number of iterations (max_iter) or scale the data as shown in:\n",
            "    https://scikit-learn.org/stable/modules/preprocessing.html\n",
            "Please also refer to the documentation for alternative solver options:\n",
            "    https://scikit-learn.org/stable/modules/linear_model.html#logistic-regression\n",
            "  n_iter_i = _check_optimize_result(\n",
            "<ipython-input-231-3cf56cb4e357>:18: SettingWithCopyWarning: \n",
            "A value is trying to be set on a copy of a slice from a DataFrame.\n",
            "Try using .loc[row_indexer,col_indexer] = value instead\n",
            "\n",
            "See the caveats in the documentation: https://pandas.pydata.org/pandas-docs/stable/user_guide/indexing.html#returning-a-view-versus-a-copy\n",
            "  df_to_fill['ICU']  = logreg.predict(df_to_fill.loc[:, df.columns != 'ICU'])\n"
          ]
        }
      ]
    },
    {
      "cell_type": "code",
      "source": [
        "from numpy.ma.core import filled\n",
        "df_mod_int = df.loc[(df['INTUBED'] != 97) & (df['INTUBED'] != 99)]\n",
        "\n",
        "df_to_fill_int = df.loc[(df['INTUBED'] == 99) | (df['INTUBED'] == 97)]\n",
        "\n",
        "\n",
        "from sklearn.linear_model import LogisticRegression\n",
        "X_mod = df_mod_int.loc[:, df.columns != 'INTUBED']\n",
        "y_mod = df_mod_int['INTUBED']\n",
        "\n",
        "logreg = LogisticRegression()\n",
        "logreg.fit(X_mod, y_mod)\n",
        "\n",
        "\n",
        "\n",
        "\n",
        "df_to_fill_int['INTUBED']  = logreg.predict(df_to_fill_int.loc[:, df.columns != 'INTUBED'])\n",
        "\n",
        "\n",
        "filled_df_int = df_to_fill_int.append(df_mod_int)\n",
        "\n",
        "df =filled_df_int\n"
      ],
      "metadata": {
        "colab": {
          "base_uri": "https://localhost:8080/"
        },
        "id": "QNy8kxnBiu8k",
        "outputId": "23a27066-1b2e-4f25-c5a7-e476a236c6d3"
      },
      "execution_count": 232,
      "outputs": [
        {
          "output_type": "stream",
          "name": "stderr",
          "text": [
            "/usr/local/lib/python3.8/dist-packages/sklearn/linear_model/_logistic.py:814: ConvergenceWarning: lbfgs failed to converge (status=1):\n",
            "STOP: TOTAL NO. of ITERATIONS REACHED LIMIT.\n",
            "\n",
            "Increase the number of iterations (max_iter) or scale the data as shown in:\n",
            "    https://scikit-learn.org/stable/modules/preprocessing.html\n",
            "Please also refer to the documentation for alternative solver options:\n",
            "    https://scikit-learn.org/stable/modules/linear_model.html#logistic-regression\n",
            "  n_iter_i = _check_optimize_result(\n",
            "<ipython-input-232-838cdcc7955c>:17: SettingWithCopyWarning: \n",
            "A value is trying to be set on a copy of a slice from a DataFrame.\n",
            "Try using .loc[row_indexer,col_indexer] = value instead\n",
            "\n",
            "See the caveats in the documentation: https://pandas.pydata.org/pandas-docs/stable/user_guide/indexing.html#returning-a-view-versus-a-copy\n",
            "  df_to_fill_int['INTUBED']  = logreg.predict(df_to_fill_int.loc[:, df.columns != 'INTUBED'])\n"
          ]
        }
      ]
    },
    {
      "cell_type": "code",
      "execution_count": 233,
      "metadata": {
        "id": "BU3jXCZs4-U2",
        "colab": {
          "base_uri": "https://localhost:8080/"
        },
        "outputId": "a82b87f3-1a4b-4727-e5ad-994c8a440c9f"
      },
      "outputs": [
        {
          "output_type": "stream",
          "name": "stdout",
          "text": [
            "Train x : (413040, 20)\n",
            "Test x : (103260, 20)\n",
            "Train y : (413040,)\n",
            "Test y : (103260,)\n"
          ]
        }
      ],
      "source": [
        "df = df.replace(to_replace=97, value=np.nan).dropna()\n",
        "df = df.replace(to_replace=99, value=np.nan).dropna()\n",
        "X = df.drop(columns=\"DEATH\")\n",
        "y = df[\"DEATH\"]\n",
        "\n",
        "Xtr, Xts, ytr, yts = train_test_split(X,y,test_size=0.2,random_state=42)\n",
        "print(\"Train x :\",Xtr.shape)\n",
        "print(\"Test x :\",Xts.shape)\n",
        "print(\"Train y :\",ytr.shape)\n",
        "print(\"Test y :\",yts.shape)"
      ]
    },
    {
      "cell_type": "markdown",
      "source": [
        "Now we proceed with the feature selection. We use an extra tree classifier to get the feature importance of each of the features and select the 10 most important features. We learnt about this method from this link in medium https://towardsdatascience.com/feature-selection-techniques-in-machine-learning-with-python-f24e7da3f36e"
      ],
      "metadata": {
        "id": "WhiNCWj3CR8V"
      }
    },
    {
      "cell_type": "code",
      "source": [
        "from sklearn.ensemble import ExtraTreesClassifier\n",
        "import matplotlib.pyplot as plt\n",
        "\n",
        "etc = ExtraTreesClassifier()\n",
        "etc.fit(Xtr,ytr)\n",
        "print(etc.feature_importances_) #use inbuilt class feature_importances of tree based classifiers\n",
        "#plot graph of feature importances for better visualization\n",
        "feat_importances = pd.Series(etc.feature_importances_, index=Xtr.columns)\n",
        "feat_importances.nlargest(10).plot(kind='barh')\n",
        "plt.show()"
      ],
      "metadata": {
        "colab": {
          "base_uri": "https://localhost:8080/",
          "height": 336
        },
        "id": "voTrVXmoSzRT",
        "outputId": "5a71e8c3-ee62-4e25-b53b-c8aadc17360c"
      },
      "execution_count": 234,
      "outputs": [
        {
          "output_type": "stream",
          "name": "stdout",
          "text": [
            "[0.00989687 0.04671262 0.         0.17069635 0.18607499 0.1056548\n",
            " 0.285999   0.0028607  0.02020884 0.00873535 0.00613554 0.00871777\n",
            " 0.02021294 0.01201643 0.01011423 0.01704982 0.01135474 0.00888319\n",
            " 0.05568645 0.01298938]\n"
          ]
        },
        {
          "output_type": "display_data",
          "data": {
            "text/plain": [
              "<Figure size 432x288 with 1 Axes>"
            ],
            "image/png": "[encoded data removed]"
          },
          "metadata": {
            "needs_background": "light"
          }
        }
      ]
    },
    {
      "cell_type": "code",
      "source": [
        "feature_list=feat_importances.nlargest(10)\n",
        "feature_list"
      ],
      "metadata": {
        "colab": {
          "base_uri": "https://localhost:8080/"
        },
        "id": "A4kDsaRaonIa",
        "outputId": "0c43c18f-71ae-49f2-936e-007c9b702d47"
      },
      "execution_count": 235,
      "outputs": [
        {
          "output_type": "execute_result",
          "data": {
            "text/plain": [
              "AGE                     0.285999\n",
              "INTUBED                 0.186075\n",
              "PATIENT_TYPE            0.170696\n",
              "PNEUMONIA               0.105655\n",
              "CLASIFFICATION_FINAL    0.055686\n",
              "MEDICAL_UNIT            0.046713\n",
              "HIPERTENSION            0.020213\n",
              "DIABETES                0.020209\n",
              "OBESITY                 0.017050\n",
              "ICU                     0.012989\n",
              "dtype: float64"
            ]
          },
          "metadata": {},
          "execution_count": 235
        }
      ]
    },
    {
      "cell_type": "code",
      "source": [
        "fselect=['AGE','PATIENT_TYPE','INTUBED','CLASIFFICATION_FINAL','MEDICAL_UNIT','PNEUMONIA','ICU','DIABETES','HIPERTENSION','OBESITY']\n",
        "X=df[fselect]\n",
        "Y=df['DEATH']\n",
        "Xtr, Xts, ytr, yts = train_test_split(X,y,test_size=0.2,random_state=42)\n",
        "print(\"Train x :\",Xtr.shape)\n",
        "print(\"Test x :\",Xts.shape)\n",
        "print(\"Train y :\",ytr.shape)\n",
        "print(\"Test y :\",yts.shape)"
      ],
      "metadata": {
        "colab": {
          "base_uri": "https://localhost:8080/"
        },
        "id": "LkIvg9SVo0t2",
        "outputId": "e6629022-2d90-413b-aaf8-b370a5cc3ae9"
      },
      "execution_count": 236,
      "outputs": [
        {
          "output_type": "stream",
          "name": "stdout",
          "text": [
            "Train x : (413040, 10)\n",
            "Test x : (103260, 10)\n",
            "Train y : (413040,)\n",
            "Test y : (103260,)\n"
          ]
        }
      ]
    },
    {
      "cell_type": "markdown",
      "source": [
        "Now we run a logistic regression model after feature selection"
      ],
      "metadata": {
        "id": "vkN75QRgCw1H"
      }
    },
    {
      "cell_type": "code",
      "source": [
        "from sklearn.linear_model import LogisticRegression\n",
        "\n",
        "logreg = LogisticRegression()\n",
        "logreg.fit(Xtr,ytr)\n",
        "print(\"Logistic Regression Accuracy :\",logreg.score(Xts, yts))"
      ],
      "metadata": {
        "colab": {
          "base_uri": "https://localhost:8080/"
        },
        "id": "HMH5MrR0vEEM",
        "outputId": "919ec44e-b826-4b92-e968-b3281413e59e"
      },
      "execution_count": 237,
      "outputs": [
        {
          "output_type": "stream",
          "name": "stdout",
          "text": [
            "Logistic Regression Accuracy : 0.9620278907611853\n"
          ]
        },
        {
          "output_type": "stream",
          "name": "stderr",
          "text": [
            "/usr/local/lib/python3.8/dist-packages/sklearn/linear_model/_logistic.py:814: ConvergenceWarning: lbfgs failed to converge (status=1):\n",
            "STOP: TOTAL NO. of ITERATIONS REACHED LIMIT.\n",
            "\n",
            "Increase the number of iterations (max_iter) or scale the data as shown in:\n",
            "    https://scikit-learn.org/stable/modules/preprocessing.html\n",
            "Please also refer to the documentation for alternative solver options:\n",
            "    https://scikit-learn.org/stable/modules/linear_model.html#logistic-regression\n",
            "  n_iter_i = _check_optimize_result(\n"
          ]
        }
      ]
    },
    {
      "cell_type": "markdown",
      "source": [
        "Notice that the accuracy that we got for a simple logistic regression model with feature selection and handling of missing data is 3% more than the accuracy we got with a complex neural network without feature selection. This highlights how important data preprocessing is if you want higher accuracies. We will now see how the other models which we saw earlier without any data preprocessing behave now."
      ],
      "metadata": {
        "id": "kiu9FE9kC8BO"
      }
    },
    {
      "cell_type": "markdown",
      "source": [
        "Decision Tree"
      ],
      "metadata": {
        "id": "5QPFZynmDpFy"
      }
    },
    {
      "cell_type": "code",
      "source": [
        "dt = DecisionTreeClassifier()\n",
        "dt.fit(Xtr,ytr)\n",
        "print(\"Decision Tree :\",dt.score(Xts, yts))"
      ],
      "metadata": {
        "colab": {
          "base_uri": "https://localhost:8080/"
        },
        "id": "ELw1DYigDrLi",
        "outputId": "fccfa0a7-86f1-41cb-9313-878af6968c36"
      },
      "execution_count": 238,
      "outputs": [
        {
          "output_type": "stream",
          "name": "stdout",
          "text": [
            "Decision Tree : 0.9582316482665117\n"
          ]
        }
      ]
    },
    {
      "cell_type": "markdown",
      "source": [
        "Random Forest"
      ],
      "metadata": {
        "id": "ewq0GTdnD4N-"
      }
    },
    {
      "cell_type": "code",
      "source": [
        "rf = RandomForestClassifier()\n",
        "rf.fit(Xtr,ytr)\n",
        "print(\"Random forrest Accuracy :\",rf.score(Xts, yts))"
      ],
      "metadata": {
        "colab": {
          "base_uri": "https://localhost:8080/"
        },
        "id": "f56PSF23D3bg",
        "outputId": "f9ccf054-1981-4761-e16f-f495d73c937c"
      },
      "execution_count": 239,
      "outputs": [
        {
          "output_type": "stream",
          "name": "stdout",
          "text": [
            "Random forrest Accuracy : 0.9588804958357544\n"
          ]
        }
      ]
    },
    {
      "cell_type": "markdown",
      "source": [
        "Neural network:\n",
        "For our neural network since we are using only 10 features now we are going to have (2*10 - 1) = 19 neurons in each of the hidden layers"
      ],
      "metadata": {
        "id": "u2wDEtr_EVME"
      }
    },
    {
      "cell_type": "code",
      "source": [
        "from tensorflow.keras.models import Model, Sequential\n",
        "from tensorflow.keras.layers import Dense, Activation\n",
        "\n",
        "nin = Xtr.shape[1] \n",
        "nh = 19    \n",
        "nout = 1   \n",
        "model = Sequential()\n",
        "model.add(Dense(units=nh, input_shape=(nin,), activation='relu', name='hidden'))\n",
        "model.add(Dense(units=nh, activation='relu', name='hidden2'))\n",
        "model.add(Dense(units=nout, activation='sigmoid', name='output'))\n",
        "\n"
      ],
      "metadata": {
        "id": "HTpPSXYanlC4"
      },
      "execution_count": 240,
      "outputs": []
    },
    {
      "cell_type": "code",
      "execution_count": 241,
      "metadata": {
        "colab": {
          "base_uri": "https://localhost:8080/"
        },
        "id": "ve35tI3x7ETK",
        "outputId": "d50fb61c-24f4-49a8-f0e5-a2c9e5d72fd4"
      },
      "outputs": [
        {
          "output_type": "stream",
          "name": "stderr",
          "text": [
            "/usr/local/lib/python3.8/dist-packages/keras/optimizers/optimizer_v2/adam.py:110: UserWarning: The `lr` argument is deprecated, use `learning_rate` instead.\n",
            "  super(Adam, self).__init__(name, **kwargs)\n"
          ]
        }
      ],
      "source": [
        "from tensorflow.keras import optimizers\n",
        "\n",
        "opt = optimizers.Adam(lr=0.001) \n",
        "model.compile(optimizer=opt,\n",
        "              loss='binary_crossentropy',\n",
        "              metrics=['accuracy'])\n"
      ]
    },
    {
      "cell_type": "code",
      "execution_count": 242,
      "metadata": {
        "colab": {
          "base_uri": "https://localhost:8080/"
        },
        "id": "xxtjE60j7FQT",
        "outputId": "94c2a256-41ca-4aff-ff1a-1a1d0ebdf0d1"
      },
      "outputs": [
        {
          "output_type": "stream",
          "name": "stdout",
          "text": [
            "Epoch 1/30\n",
            "4131/4131 [==============================] - 11s 2ms/step - loss: 0.1097 - accuracy: 0.9574 - val_loss: 0.0934 - val_accuracy: 0.9601\n",
            "Epoch 2/30\n",
            "4131/4131 [==============================] - 10s 3ms/step - loss: 0.0931 - accuracy: 0.9603 - val_loss: 0.0909 - val_accuracy: 0.9621\n",
            "Epoch 3/30\n",
            "4131/4131 [==============================] - 10s 2ms/step - loss: 0.0921 - accuracy: 0.9608 - val_loss: 0.0903 - val_accuracy: 0.9619\n",
            "Epoch 4/30\n",
            "4131/4131 [==============================] - 10s 2ms/step - loss: 0.0915 - accuracy: 0.9612 - val_loss: 0.0925 - val_accuracy: 0.9604\n",
            "Epoch 5/30\n",
            "4131/4131 [==============================] - 12s 3ms/step - loss: 0.0908 - accuracy: 0.9613 - val_loss: 0.0894 - val_accuracy: 0.9623\n",
            "Epoch 6/30\n",
            "4131/4131 [==============================] - 10s 2ms/step - loss: 0.0904 - accuracy: 0.9615 - val_loss: 0.0893 - val_accuracy: 0.9626\n",
            "Epoch 7/30\n",
            "4131/4131 [==============================] - 10s 3ms/step - loss: 0.0901 - accuracy: 0.9616 - val_loss: 0.0892 - val_accuracy: 0.9617\n",
            "Epoch 8/30\n",
            "4131/4131 [==============================] - 10s 2ms/step - loss: 0.0898 - accuracy: 0.9617 - val_loss: 0.0898 - val_accuracy: 0.9613\n",
            "Epoch 9/30\n",
            "4131/4131 [==============================] - 10s 2ms/step - loss: 0.0896 - accuracy: 0.9615 - val_loss: 0.0889 - val_accuracy: 0.9628\n",
            "Epoch 10/30\n",
            "4131/4131 [==============================] - 11s 3ms/step - loss: 0.0895 - accuracy: 0.9617 - val_loss: 0.0894 - val_accuracy: 0.9620\n",
            "Epoch 11/30\n",
            "4131/4131 [==============================] - 11s 3ms/step - loss: 0.0892 - accuracy: 0.9618 - val_loss: 0.0902 - val_accuracy: 0.9610\n",
            "Epoch 12/30\n",
            "4131/4131 [==============================] - 10s 3ms/step - loss: 0.0891 - accuracy: 0.9618 - val_loss: 0.0900 - val_accuracy: 0.9620\n",
            "Epoch 13/30\n",
            "4131/4131 [==============================] - 10s 3ms/step - loss: 0.0890 - accuracy: 0.9619 - val_loss: 0.0892 - val_accuracy: 0.9623\n",
            "Epoch 14/30\n",
            "4131/4131 [==============================] - 10s 2ms/step - loss: 0.0890 - accuracy: 0.9619 - val_loss: 0.0882 - val_accuracy: 0.9625\n",
            "Epoch 15/30\n",
            "4131/4131 [==============================] - 10s 2ms/step - loss: 0.0888 - accuracy: 0.9620 - val_loss: 0.0881 - val_accuracy: 0.9632\n",
            "Epoch 16/30\n",
            "4131/4131 [==============================] - 10s 2ms/step - loss: 0.0887 - accuracy: 0.9620 - val_loss: 0.0883 - val_accuracy: 0.9629\n",
            "Epoch 17/30\n",
            "4131/4131 [==============================] - 10s 2ms/step - loss: 0.0887 - accuracy: 0.9621 - val_loss: 0.0879 - val_accuracy: 0.9631\n",
            "Epoch 18/30\n",
            "4131/4131 [==============================] - 10s 2ms/step - loss: 0.0886 - accuracy: 0.9618 - val_loss: 0.0888 - val_accuracy: 0.9632\n",
            "Epoch 19/30\n",
            "4131/4131 [==============================] - 11s 3ms/step - loss: 0.0884 - accuracy: 0.9621 - val_loss: 0.0880 - val_accuracy: 0.9626\n",
            "Epoch 20/30\n",
            "4131/4131 [==============================] - 10s 2ms/step - loss: 0.0884 - accuracy: 0.9619 - val_loss: 0.0879 - val_accuracy: 0.9631\n",
            "Epoch 21/30\n",
            "4131/4131 [==============================] - 10s 2ms/step - loss: 0.0883 - accuracy: 0.9620 - val_loss: 0.0883 - val_accuracy: 0.9627\n",
            "Epoch 22/30\n",
            "4131/4131 [==============================] - 10s 2ms/step - loss: 0.0882 - accuracy: 0.9621 - val_loss: 0.0901 - val_accuracy: 0.9623\n",
            "Epoch 23/30\n",
            "4131/4131 [==============================] - 12s 3ms/step - loss: 0.0882 - accuracy: 0.9621 - val_loss: 0.0887 - val_accuracy: 0.9626\n",
            "Epoch 24/30\n",
            "4131/4131 [==============================] - 11s 3ms/step - loss: 0.0882 - accuracy: 0.9623 - val_loss: 0.0883 - val_accuracy: 0.9628\n",
            "Epoch 25/30\n",
            "4131/4131 [==============================] - 11s 3ms/step - loss: 0.0880 - accuracy: 0.9622 - val_loss: 0.0882 - val_accuracy: 0.9628\n",
            "Epoch 26/30\n",
            "4131/4131 [==============================] - 11s 3ms/step - loss: 0.0880 - accuracy: 0.9621 - val_loss: 0.0882 - val_accuracy: 0.9625\n",
            "Epoch 27/30\n",
            "4131/4131 [==============================] - 10s 2ms/step - loss: 0.0880 - accuracy: 0.9622 - val_loss: 0.0885 - val_accuracy: 0.9627\n",
            "Epoch 28/30\n",
            "4131/4131 [==============================] - 11s 3ms/step - loss: 0.0881 - accuracy: 0.9622 - val_loss: 0.0876 - val_accuracy: 0.9630\n",
            "Epoch 29/30\n",
            "4131/4131 [==============================] - 10s 2ms/step - loss: 0.0879 - accuracy: 0.9622 - val_loss: 0.0879 - val_accuracy: 0.9629\n",
            "Epoch 30/30\n",
            "4131/4131 [==============================] - 10s 2ms/step - loss: 0.0879 - accuracy: 0.9622 - val_loss: 0.0895 - val_accuracy: 0.9628\n"
          ]
        }
      ],
      "source": [
        "hist = model.fit(Xtr, ytr, epochs=30, batch_size=100, validation_data=(Xts,yts))"
      ]
    },
    {
      "cell_type": "code",
      "source": [
        "score, acc = model.evaluate(Xts, yts)\n",
        "print('Test accuracy:', acc)"
      ],
      "metadata": {
        "colab": {
          "base_uri": "https://localhost:8080/"
        },
        "id": "WMPtJmmOuAlG",
        "outputId": "1c332c39-00e9-4ea2-8f23-1e53cbfbdee6"
      },
      "execution_count": 243,
      "outputs": [
        {
          "output_type": "stream",
          "name": "stdout",
          "text": [
            "3227/3227 [==============================] - 5s 2ms/step - loss: 0.0895 - accuracy: 0.9628\n",
            "Test accuracy: 0.9627832770347595\n"
          ]
        }
      ]
    },
    {
      "cell_type": "markdown",
      "source": [
        "We see that the neural network has the best accuracy with feature selection"
      ],
      "metadata": {
        "id": "_sPqOZ7wGLsN"
      }
    },
    {
      "cell_type": "markdown",
      "source": [
        "We now plot the variation of test accuracy with each epoch."
      ],
      "metadata": {
        "id": "gF2Rjg4xGVkH"
      }
    },
    {
      "cell_type": "code",
      "source": [
        "val_acc = hist.history['val_accuracy']\n",
        "nepochs = len(val_acc)\n",
        "plt.plot(np.arange(1,nepochs+1), val_acc, 'o-', linewidth=2)\n",
        "plt.grid()\n",
        "plt.xlabel('Epoch')\n",
        "plt.ylabel('Test accuracy')"
      ],
      "metadata": {
        "colab": {
          "base_uri": "https://localhost:8080/",
          "height": 297
        },
        "id": "9fHO8SHduS_-",
        "outputId": "7f4bd2b7-041f-4406-ddd6-4925af9e042c"
      },
      "execution_count": 244,
      "outputs": [
        {
          "output_type": "execute_result",
          "data": {
            "text/plain": [
              "Text(0, 0.5, 'Test accuracy')"
            ]
          },
          "metadata": {},
          "execution_count": 244
        },
        {
          "output_type": "display_data",
          "data": {
            "text/plain": [
              "<Figure size 432x288 with 1 Axes>"
            ],
            "image/png": "[encoded data removed]"
          },
          "metadata": {
            "needs_background": "light"
          }
        }
      ]
    },
    {
      "cell_type": "markdown",
      "source": [
        "We are also showing some other usefull metrics. "
      ],
      "metadata": {
        "id": "w5d8U4NkGUB5"
      }
    },
    {
      "cell_type": "markdown",
      "source": [
        "Confusion Matrix\n"
      ],
      "metadata": {
        "id": "8cD2E9vUGqRJ"
      }
    },
    {
      "cell_type": "code",
      "source": [
        "from sklearn import metrics\n",
        "actual=yts\n",
        "predicted=model.predict(Xts)\n",
        "y_pred = np.round(predicted).tolist()\n",
        "confusion_matrix = metrics.confusion_matrix(actual, y_pred)\n",
        "\n",
        "cm_display = metrics.ConfusionMatrixDisplay(confusion_matrix = confusion_matrix, display_labels = [False, True])\n",
        "\n",
        "cm_display.plot()\n"
      ],
      "metadata": {
        "colab": {
          "base_uri": "https://localhost:8080/",
          "height": 315
        },
        "id": "XRtPK4YjwBYm",
        "outputId": "1612c381-7450-4208-dc22-d4633ca6b43d"
      },
      "execution_count": 249,
      "outputs": [
        {
          "output_type": "stream",
          "name": "stdout",
          "text": [
            "3227/3227 [==============================] - 4s 1ms/step\n"
          ]
        },
        {
          "output_type": "execute_result",
          "data": {
            "text/plain": [
              "<sklearn.metrics._plot.confusion_matrix.ConfusionMatrixDisplay at 0x7fc0bfedcd30>"
            ]
          },
          "metadata": {},
          "execution_count": 249
        },
        {
          "output_type": "display_data",
          "data": {
            "text/plain": [
              "<Figure size 432x288 with 2 Axes>"
            ],
            "image/png": "[encoded data removed]"
          },
          "metadata": {
            "needs_background": "light"
          }
        }
      ]
    },
    {
      "cell_type": "markdown",
      "source": [
        "ROC Curves"
      ],
      "metadata": {
        "id": "q3AmVV49T2_s"
      }
    },
    {
      "cell_type": "code",
      "source": [
        "def plot_roc_curve(fpr, tpr):\n",
        "    plt.plot(fpr, tpr, color='orange', label='ROC')\n",
        "    plt.plot([0, 1], [0, 1], color='darkblue', linestyle='--')\n",
        "    plt.xlabel('False Positive Rate')\n",
        "    plt.ylabel('True Positive Rate')\n",
        "    plt.title('Receiver Operating Characteristic (ROC) Curve')\n",
        "    plt.legend()\n",
        "    plt.show()"
      ],
      "metadata": {
        "id": "90QQt2DIS0Ys"
      },
      "execution_count": 251,
      "outputs": []
    },
    {
      "cell_type": "code",
      "source": [
        "from sklearn.metrics import roc_curve\n",
        "from sklearn.metrics import roc_auc_score\n",
        "auc = roc_auc_score(yts, predicted)\n",
        "print('AUC: %.2f' % auc)"
      ],
      "metadata": {
        "colab": {
          "base_uri": "https://localhost:8080/"
        },
        "id": "A-vrJz-4URwj",
        "outputId": "ace8119e-3575-4136-9ebe-4586cd239c23"
      },
      "execution_count": 253,
      "outputs": [
        {
          "output_type": "stream",
          "name": "stdout",
          "text": [
            "AUC: 0.97\n"
          ]
        }
      ]
    },
    {
      "cell_type": "code",
      "source": [
        "fpr, tpr, thresholds = roc_curve(yts, predicted)"
      ],
      "metadata": {
        "id": "tzeo227rUsuB"
      },
      "execution_count": 254,
      "outputs": []
    },
    {
      "cell_type": "code",
      "source": [
        "plot_roc_curve(fpr, tpr)"
      ],
      "metadata": {
        "colab": {
          "base_uri": "https://localhost:8080/",
          "height": 295
        },
        "id": "hUw8Pr7ZU2li",
        "outputId": "b51ab798-c9b9-4b44-e0db-4be559b6cfa2"
      },
      "execution_count": 255,
      "outputs": [
        {
          "output_type": "display_data",
          "data": {
            "text/plain": [
              "<Figure size 432x288 with 1 Axes>"
            ],
            "image/png": "[encoded data removed]"
          },
          "metadata": {
            "needs_background": "light"
          }
        }
      ]
    }
  ],
  "metadata": {
    "colab": {
      "provenance": []
    },
    "kernelspec": {
      "display_name": "Python 3",
      "name": "python3"
    },
    "language_info": {
      "name": "python"
    }
  },
  "nbformat": 4,
  "nbformat_minor": 0
}